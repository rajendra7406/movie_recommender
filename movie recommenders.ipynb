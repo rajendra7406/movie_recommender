{
 "cells": [
  {
   "cell_type": "markdown",
   "metadata": {},
   "source": [
    "# Movie recommender"
   ]
  },
  {
   "cell_type": "code",
   "execution_count": 10,
   "metadata": {
    "collapsed": true
   },
   "outputs": [],
   "source": [
    "#Importing libraries\n",
    "import pandas as pd\n",
    "import numpy as np"
   ]
  },
  {
   "cell_type": "code",
   "execution_count": 2,
   "metadata": {
    "collapsed": true
   },
   "outputs": [],
   "source": [
    "ratings = pd.read_csv('ratings.csv')"
   ]
  },
  {
   "cell_type": "code",
   "execution_count": 3,
   "metadata": {},
   "outputs": [
    {
     "data": {
      "text/html": [
       "<div>\n",
       "<style>\n",
       "    .dataframe thead tr:only-child th {\n",
       "        text-align: right;\n",
       "    }\n",
       "\n",
       "    .dataframe thead th {\n",
       "        text-align: left;\n",
       "    }\n",
       "\n",
       "    .dataframe tbody tr th {\n",
       "        vertical-align: top;\n",
       "    }\n",
       "</style>\n",
       "<table border=\"1\" class=\"dataframe\">\n",
       "  <thead>\n",
       "    <tr style=\"text-align: right;\">\n",
       "      <th></th>\n",
       "      <th>userId</th>\n",
       "      <th>movieId</th>\n",
       "      <th>rating</th>\n",
       "      <th>timestamp</th>\n",
       "    </tr>\n",
       "  </thead>\n",
       "  <tbody>\n",
       "    <tr>\n",
       "      <th>0</th>\n",
       "      <td>1</td>\n",
       "      <td>31</td>\n",
       "      <td>2.5</td>\n",
       "      <td>1260759144</td>\n",
       "    </tr>\n",
       "    <tr>\n",
       "      <th>1</th>\n",
       "      <td>1</td>\n",
       "      <td>1029</td>\n",
       "      <td>3.0</td>\n",
       "      <td>1260759179</td>\n",
       "    </tr>\n",
       "    <tr>\n",
       "      <th>2</th>\n",
       "      <td>1</td>\n",
       "      <td>1061</td>\n",
       "      <td>3.0</td>\n",
       "      <td>1260759182</td>\n",
       "    </tr>\n",
       "    <tr>\n",
       "      <th>3</th>\n",
       "      <td>1</td>\n",
       "      <td>1129</td>\n",
       "      <td>2.0</td>\n",
       "      <td>1260759185</td>\n",
       "    </tr>\n",
       "    <tr>\n",
       "      <th>4</th>\n",
       "      <td>1</td>\n",
       "      <td>1172</td>\n",
       "      <td>4.0</td>\n",
       "      <td>1260759205</td>\n",
       "    </tr>\n",
       "  </tbody>\n",
       "</table>\n",
       "</div>"
      ],
      "text/plain": [
       "   userId  movieId  rating   timestamp\n",
       "0       1       31     2.5  1260759144\n",
       "1       1     1029     3.0  1260759179\n",
       "2       1     1061     3.0  1260759182\n",
       "3       1     1129     2.0  1260759185\n",
       "4       1     1172     4.0  1260759205"
      ]
     },
     "execution_count": 3,
     "metadata": {},
     "output_type": "execute_result"
    }
   ],
   "source": [
    "ratings.head()"
   ]
  },
  {
   "cell_type": "code",
   "execution_count": 19,
   "metadata": {},
   "outputs": [
    {
     "data": {
      "text/plain": [
       "('users =', 671, 'movies =', 9066)"
      ]
     },
     "execution_count": 19,
     "metadata": {},
     "output_type": "execute_result"
    }
   ],
   "source": [
    "users = ratings.userId.unique()\n",
    "movies = ratings.movieId.unique()\n",
    "\n",
    "#count of users, movies\n",
    "n_users = ratings.userId.nunique()\n",
    "n_movies = ratings.movieId.nunique()\n",
    "'users =', n_users, 'movies =',  n_movies"
   ]
  },
  {
   "cell_type": "code",
   "execution_count": 5,
   "metadata": {},
   "outputs": [],
   "source": [
    "#preparing data for embedding by indexing userids, moviesids\n",
    "userid2idx = { o:i for i,o in enumerate(users) }\n",
    "movieid2idx = {o:i for i,o in enumerate(movies) }"
   ]
  },
  {
   "cell_type": "markdown",
   "metadata": {},
   "source": [
    "Updating users and movies column with continous indexes. This is the preparation for embedding. "
   ]
  },
  {
   "cell_type": "code",
   "execution_count": 6,
   "metadata": {},
   "outputs": [],
   "source": [
    "#embedding data\n",
    "ratings.userId = ratings.userId.apply(lambda x:userid2idx[x])\n",
    "ratings.movieId = ratings.movieId.apply(lambda x:movieid2idx[x])\n"
   ]
  },
  {
   "cell_type": "code",
   "execution_count": 7,
   "metadata": {},
   "outputs": [
    {
     "data": {
      "text/html": [
       "<div>\n",
       "<style>\n",
       "    .dataframe thead tr:only-child th {\n",
       "        text-align: right;\n",
       "    }\n",
       "\n",
       "    .dataframe thead th {\n",
       "        text-align: left;\n",
       "    }\n",
       "\n",
       "    .dataframe tbody tr th {\n",
       "        vertical-align: top;\n",
       "    }\n",
       "</style>\n",
       "<table border=\"1\" class=\"dataframe\">\n",
       "  <thead>\n",
       "    <tr style=\"text-align: right;\">\n",
       "      <th></th>\n",
       "      <th>userId</th>\n",
       "      <th>movieId</th>\n",
       "      <th>rating</th>\n",
       "      <th>timestamp</th>\n",
       "    </tr>\n",
       "  </thead>\n",
       "  <tbody>\n",
       "    <tr>\n",
       "      <th>0</th>\n",
       "      <td>0</td>\n",
       "      <td>0</td>\n",
       "      <td>2.5</td>\n",
       "      <td>1260759144</td>\n",
       "    </tr>\n",
       "    <tr>\n",
       "      <th>1</th>\n",
       "      <td>0</td>\n",
       "      <td>1</td>\n",
       "      <td>3.0</td>\n",
       "      <td>1260759179</td>\n",
       "    </tr>\n",
       "    <tr>\n",
       "      <th>2</th>\n",
       "      <td>0</td>\n",
       "      <td>2</td>\n",
       "      <td>3.0</td>\n",
       "      <td>1260759182</td>\n",
       "    </tr>\n",
       "    <tr>\n",
       "      <th>3</th>\n",
       "      <td>0</td>\n",
       "      <td>3</td>\n",
       "      <td>2.0</td>\n",
       "      <td>1260759185</td>\n",
       "    </tr>\n",
       "    <tr>\n",
       "      <th>4</th>\n",
       "      <td>0</td>\n",
       "      <td>4</td>\n",
       "      <td>4.0</td>\n",
       "      <td>1260759205</td>\n",
       "    </tr>\n",
       "  </tbody>\n",
       "</table>\n",
       "</div>"
      ],
      "text/plain": [
       "   userId  movieId  rating   timestamp\n",
       "0       0        0     2.5  1260759144\n",
       "1       0        1     3.0  1260759179\n",
       "2       0        2     3.0  1260759182\n",
       "3       0        3     2.0  1260759185\n",
       "4       0        4     4.0  1260759205"
      ]
     },
     "execution_count": 7,
     "metadata": {},
     "output_type": "execute_result"
    }
   ],
   "source": [
    "#after data preprocessing necessary for embedding layers\n",
    "#here original data for usedid and movied are replaced with continous integers \n",
    "#Note that 'rating' is not preprocesses and 'timestamp' is of little importance\n",
    "ratings.head()"
   ]
  },
  {
   "cell_type": "code",
   "execution_count": 21,
   "metadata": {},
   "outputs": [],
   "source": [
    "#defining latent factor for embedding layers\n",
    "n_factors = 50\n",
    "np.random.seed = 42"
   ]
  },
  {
   "cell_type": "code",
   "execution_count": 23,
   "metadata": {},
   "outputs": [],
   "source": [
    "#splitting the data\n",
    "msk = np.random.rand(len(ratings)) < 0.8\n",
    "trn = ratings[msk]\n",
    "val = ratings[~msk]"
   ]
  },
  {
   "cell_type": "code",
   "execution_count": 44,
   "metadata": {},
   "outputs": [],
   "source": [
    "#creating input layer\n",
    "from keras.models import Model\n",
    "from keras.layers import Dense,Input,Embedding,Dropout, merge, Flatten\n",
    "from keras.regularizers import l2\n",
    "from keras.optimizers import Adam"
   ]
  },
  {
   "cell_type": "code",
   "execution_count": 39,
   "metadata": {
    "collapsed": true
   },
   "outputs": [],
   "source": [
    "#Input layer\n",
    "user_in = Input(shape=(1,), dtype='int64',name='user_in')\n",
    "movie_in = Input(shape=(1,), dtype='int64', name='movies_in')"
   ]
  },
  {
   "cell_type": "code",
   "execution_count": 40,
   "metadata": {},
   "outputs": [
    {
     "name": "stderr",
     "output_type": "stream",
     "text": [
      "C:\\Users\\Chaitra\\Anaconda3\\lib\\site-packages\\ipykernel_launcher.py:2: UserWarning: Update your `Embedding` call to the Keras 2 API: `Embedding(671, 50, input_length=1, embeddings_regularizer=<keras.reg...)`\n",
      "  \n",
      "C:\\Users\\Chaitra\\Anaconda3\\lib\\site-packages\\ipykernel_launcher.py:3: UserWarning: Update your `Embedding` call to the Keras 2 API: `Embedding(9066, 50, input_length=1, embeddings_regularizer=<keras.reg...)`\n",
      "  This is separate from the ipykernel package so we can avoid doing imports until\n"
     ]
    }
   ],
   "source": [
    "#embedding layer\n",
    "u = Embedding(n_users, n_factors, input_length=1, W_regularizer=l2(1e-4))(user_in)\n",
    "m = Embedding(n_movies, n_factors, input_length=1, W_regularizer=l2(1e-4))(movie_in)"
   ]
  },
  {
   "cell_type": "code",
   "execution_count": 27,
   "metadata": {
    "collapsed": true
   },
   "outputs": [],
   "source": []
  },
  {
   "cell_type": "code",
   "execution_count": 42,
   "metadata": {},
   "outputs": [
    {
     "name": "stderr",
     "output_type": "stream",
     "text": [
      "C:\\Users\\Chaitra\\Anaconda3\\lib\\site-packages\\ipykernel_launcher.py:1: UserWarning: The `merge` function is deprecated and will be removed after 08/2017. Use instead layers from `keras.layers.merge`, e.g. `add`, `concatenate`, etc.\n",
      "  \"\"\"Entry point for launching an IPython kernel.\n",
      "C:\\Users\\Chaitra\\Anaconda3\\lib\\site-packages\\keras\\legacy\\layers.py:460: UserWarning: The `Merge` layer is deprecated and will be removed after 08/2017. Use instead layers from `keras.layers.merge`, e.g. `add`, `concatenate`, etc.\n",
      "  name=name)\n"
     ]
    }
   ],
   "source": [
    "x = merge([u,m], mode='concat')\n",
    "x = Flatten()(x)\n",
    "x = Dropout(0.3)(x)\n",
    "x = Dense(70,activation='relu')(x)\n",
    "x = Dropout(0.7)(x)\n",
    "x = Dense(1)(x)\n",
    "nn = Model([user_in,movie_in],x)\n"
   ]
  },
  {
   "cell_type": "code",
   "execution_count": 45,
   "metadata": {},
   "outputs": [],
   "source": [
    "nn.compile(optimizer=Adam(0.01), loss='mse', metrics=['accuracy'])\n"
   ]
  },
  {
   "cell_type": "code",
   "execution_count": 49,
   "metadata": {},
   "outputs": [
    {
     "name": "stdout",
     "output_type": "stream",
     "text": [
      "Train on 79894 samples, validate on 20110 samples\n",
      "Epoch 1/10\n",
      "79894/79894 [==============================] - 57s - loss: 1.1396 - acc: 0.3015 - val_loss: 1.0843 - val_acc: 0.3194\n",
      "Epoch 2/10\n",
      "79894/79894 [==============================] - 57s - loss: 1.1655 - acc: 0.3013 - val_loss: 1.1127 - val_acc: 0.3167\n",
      "Epoch 3/10\n",
      "79894/79894 [==============================] - 57s - loss: 1.1861 - acc: 0.3015 - val_loss: 1.1319 - val_acc: 0.3262\n",
      "Epoch 4/10\n",
      "79894/79894 [==============================] - 57s - loss: 1.2029 - acc: 0.3030 - val_loss: 1.1307 - val_acc: 0.3175\n",
      "Epoch 5/10\n",
      "79894/79894 [==============================] - 60s - loss: 1.2085 - acc: 0.3038 - val_loss: 1.1474 - val_acc: 0.3215\n",
      "Epoch 6/10\n",
      "79894/79894 [==============================] - 56s - loss: 1.2025 - acc: 0.3065 - val_loss: 1.1471 - val_acc: 0.3068\n",
      "Epoch 7/10\n",
      "79894/79894 [==============================] - 56s - loss: 1.1857 - acc: 0.3081 - val_loss: 1.0953 - val_acc: 0.3152\n",
      "Epoch 8/10\n",
      "79894/79894 [==============================] - 57s - loss: 1.1734 - acc: 0.3074 - val_loss: 1.1188 - val_acc: 0.3204\n",
      "Epoch 9/10\n",
      "79894/79894 [==============================] - 58s - loss: 1.1691 - acc: 0.3097 - val_loss: 1.1180 - val_acc: 0.3209\n",
      "Epoch 10/10\n",
      "79894/79894 [==============================] - 58s - loss: 1.1556 - acc: 0.3110 - val_loss: 1.0820 - val_acc: 0.3241\n"
     ]
    },
    {
     "data": {
      "text/plain": [
       "<keras.callbacks.History at 0x207fe3d4710>"
      ]
     },
     "execution_count": 49,
     "metadata": {},
     "output_type": "execute_result"
    }
   ],
   "source": [
    "nn.fit( [trn.userId, trn.movieId], trn.rating,\n",
    "        epochs=10,\n",
    "        batch_size=64,\n",
    "        validation_data=([val.userId,val.movieId],val.rating)\n",
    "      )"
   ]
  },
  {
   "cell_type": "code",
   "execution_count": 51,
   "metadata": {
    "collapsed": true
   },
   "outputs": [],
   "source": [
    "nn.compile(optimizer=Adam(0.001), loss='mse', metrics=['accuracy'])\n"
   ]
  },
  {
   "cell_type": "code",
   "execution_count": 52,
   "metadata": {},
   "outputs": [
    {
     "name": "stdout",
     "output_type": "stream",
     "text": [
      "Train on 79894 samples, validate on 20110 samples\n",
      "Epoch 1/10\n",
      "79894/79894 [==============================] - 58s - loss: 0.9652 - acc: 0.3204 - val_loss: 0.8959 - val_acc: 0.3269\n",
      "Epoch 2/10\n",
      "79894/79894 [==============================] - 56s - loss: 0.9050 - acc: 0.3251 - val_loss: 0.8605 - val_acc: 0.3352\n",
      "Epoch 3/10\n",
      "79894/79894 [==============================] - 56s - loss: 0.8754 - acc: 0.3329 - val_loss: 0.8490 - val_acc: 0.3316\n",
      "Epoch 4/10\n",
      "79894/79894 [==============================] - 56s - loss: 0.8577 - acc: 0.3347 - val_loss: 0.8413 - val_acc: 0.3330\n",
      "Epoch 5/10\n",
      "79894/79894 [==============================] - 56s - loss: 0.8477 - acc: 0.3372 - val_loss: 0.8416 - val_acc: 0.3323\n",
      "Epoch 6/10\n",
      "79894/79894 [==============================] - 58s - loss: 0.8380 - acc: 0.3372 - val_loss: 0.8357 - val_acc: 0.3328\n",
      "Epoch 7/10\n",
      "79894/79894 [==============================] - 58s - loss: 0.8343 - acc: 0.3392 - val_loss: 0.8345 - val_acc: 0.3324\n",
      "Epoch 8/10\n",
      "79894/79894 [==============================] - 56s - loss: 0.8278 - acc: 0.3397 - val_loss: 0.8320 - val_acc: 0.3384\n",
      "Epoch 9/10\n",
      "79894/79894 [==============================] - 147s - loss: 0.8204 - acc: 0.3411 - val_loss: 0.8330 - val_acc: 0.3345\n",
      "Epoch 10/10\n",
      "79894/79894 [==============================] - 16s - loss: 0.8183 - acc: 0.3410 - val_loss: 0.8320 - val_acc: 0.3358\n"
     ]
    },
    {
     "data": {
      "text/plain": [
       "<keras.callbacks.History at 0x207ba651550>"
      ]
     },
     "execution_count": 52,
     "metadata": {},
     "output_type": "execute_result"
    }
   ],
   "source": [
    "nn.fit( [trn.userId, trn.movieId], trn.rating,\n",
    "        epochs=10,\n",
    "        batch_size=64,\n",
    "        validation_data=([val.userId,val.movieId],val.rating)\n",
    "      )"
   ]
  },
  {
   "cell_type": "code",
   "execution_count": null,
   "metadata": {
    "collapsed": true
   },
   "outputs": [],
   "source": []
  },
  {
   "cell_type": "code",
   "execution_count": 54,
   "metadata": {},
   "outputs": [],
   "source": [
    "nn.save_weights('mov_rec.h5')"
   ]
  },
  {
   "cell_type": "code",
   "execution_count": 55,
   "metadata": {},
   "outputs": [
    {
     "data": {
      "text/plain": [
       "array([[ 2.99065065]], dtype=float32)"
      ]
     },
     "execution_count": 55,
     "metadata": {},
     "output_type": "execute_result"
    }
   ],
   "source": [
    "#Lets predict for user #5 and movie #10\n",
    "nn.predict([np.array([5]), np.array([10]) ])"
   ]
  }
 ],
 "metadata": {
  "kernelspec": {
   "display_name": "Python 3",
   "language": "python",
   "name": "python3"
  },
  "language_info": {
   "codemirror_mode": {
    "name": "ipython",
    "version": 3
   },
   "file_extension": ".py",
   "mimetype": "text/x-python",
   "name": "python",
   "nbconvert_exporter": "python",
   "pygments_lexer": "ipython3",
   "version": "3.5.3"
  }
 },
 "nbformat": 4,
 "nbformat_minor": 2
}
